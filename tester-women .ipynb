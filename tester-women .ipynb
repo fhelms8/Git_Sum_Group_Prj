{
 "cells": [
  {
   "cell_type": "code",
   "execution_count": 39,
   "metadata": {},
   "outputs": [
    {
     "data": {
      "text/plain": [
       "20"
      ]
     },
     "execution_count": 39,
     "metadata": {},
     "output_type": "execute_result"
    }
   ],
   "source": [
    "## Women sports topics (Most played sports, maybe add age??):\n",
    "#Athletics, Gymnastics, Swimming\n",
    "\n",
    "import matplotlib.pyplot as plt\n",
    "import scipy.stats as st\n",
    "import numpy as np \n",
    "import pandas as pd\n",
    "pd.get_option(\"display.max_columns\")"
   ]
  },
  {
   "cell_type": "code",
   "execution_count": 40,
   "metadata": {},
   "outputs": [
    {
     "data": {
      "text/html": [
       "<div>\n",
       "<style scoped>\n",
       "    .dataframe tbody tr th:only-of-type {\n",
       "        vertical-align: middle;\n",
       "    }\n",
       "\n",
       "    .dataframe tbody tr th {\n",
       "        vertical-align: top;\n",
       "    }\n",
       "\n",
       "    .dataframe thead th {\n",
       "        text-align: right;\n",
       "    }\n",
       "</style>\n",
       "<table border=\"1\" class=\"dataframe\">\n",
       "  <thead>\n",
       "    <tr style=\"text-align: right;\">\n",
       "      <th></th>\n",
       "      <th>ID</th>\n",
       "      <th>Name</th>\n",
       "      <th>Sex</th>\n",
       "      <th>Age</th>\n",
       "      <th>Height</th>\n",
       "      <th>Weight</th>\n",
       "      <th>Team</th>\n",
       "      <th>NOC</th>\n",
       "      <th>Games</th>\n",
       "      <th>Year</th>\n",
       "      <th>Season</th>\n",
       "      <th>City</th>\n",
       "      <th>Sport</th>\n",
       "      <th>Event</th>\n",
       "      <th>Medal</th>\n",
       "    </tr>\n",
       "  </thead>\n",
       "  <tbody>\n",
       "    <tr>\n",
       "      <th>0</th>\n",
       "      <td>1</td>\n",
       "      <td>A Dijiang</td>\n",
       "      <td>M</td>\n",
       "      <td>24.0</td>\n",
       "      <td>180.0</td>\n",
       "      <td>80.0</td>\n",
       "      <td>China</td>\n",
       "      <td>CHN</td>\n",
       "      <td>1992 Summer</td>\n",
       "      <td>1992</td>\n",
       "      <td>Summer</td>\n",
       "      <td>Barcelona</td>\n",
       "      <td>Basketball</td>\n",
       "      <td>Basketball Men's Basketball</td>\n",
       "      <td>NaN</td>\n",
       "    </tr>\n",
       "    <tr>\n",
       "      <th>1</th>\n",
       "      <td>2</td>\n",
       "      <td>A Lamusi</td>\n",
       "      <td>M</td>\n",
       "      <td>23.0</td>\n",
       "      <td>170.0</td>\n",
       "      <td>60.0</td>\n",
       "      <td>China</td>\n",
       "      <td>CHN</td>\n",
       "      <td>2012 Summer</td>\n",
       "      <td>2012</td>\n",
       "      <td>Summer</td>\n",
       "      <td>London</td>\n",
       "      <td>Judo</td>\n",
       "      <td>Judo Men's Extra-Lightweight</td>\n",
       "      <td>NaN</td>\n",
       "    </tr>\n",
       "    <tr>\n",
       "      <th>2</th>\n",
       "      <td>3</td>\n",
       "      <td>Gunnar Nielsen Aaby</td>\n",
       "      <td>M</td>\n",
       "      <td>24.0</td>\n",
       "      <td>NaN</td>\n",
       "      <td>NaN</td>\n",
       "      <td>Denmark</td>\n",
       "      <td>DEN</td>\n",
       "      <td>1920 Summer</td>\n",
       "      <td>1920</td>\n",
       "      <td>Summer</td>\n",
       "      <td>Antwerpen</td>\n",
       "      <td>Football</td>\n",
       "      <td>Football Men's Football</td>\n",
       "      <td>NaN</td>\n",
       "    </tr>\n",
       "    <tr>\n",
       "      <th>3</th>\n",
       "      <td>4</td>\n",
       "      <td>Edgar Lindenau Aabye</td>\n",
       "      <td>M</td>\n",
       "      <td>34.0</td>\n",
       "      <td>NaN</td>\n",
       "      <td>NaN</td>\n",
       "      <td>Denmark/Sweden</td>\n",
       "      <td>DEN</td>\n",
       "      <td>1900 Summer</td>\n",
       "      <td>1900</td>\n",
       "      <td>Summer</td>\n",
       "      <td>Paris</td>\n",
       "      <td>Tug-Of-War</td>\n",
       "      <td>Tug-Of-War Men's Tug-Of-War</td>\n",
       "      <td>Gold</td>\n",
       "    </tr>\n",
       "    <tr>\n",
       "      <th>4</th>\n",
       "      <td>5</td>\n",
       "      <td>Christine Jacoba Aaftink</td>\n",
       "      <td>F</td>\n",
       "      <td>21.0</td>\n",
       "      <td>185.0</td>\n",
       "      <td>82.0</td>\n",
       "      <td>Netherlands</td>\n",
       "      <td>NED</td>\n",
       "      <td>1988 Winter</td>\n",
       "      <td>1988</td>\n",
       "      <td>Winter</td>\n",
       "      <td>Calgary</td>\n",
       "      <td>Speed Skating</td>\n",
       "      <td>Speed Skating Women's 500 metres</td>\n",
       "      <td>NaN</td>\n",
       "    </tr>\n",
       "  </tbody>\n",
       "</table>\n",
       "</div>"
      ],
      "text/plain": [
       "   ID                      Name Sex   Age  Height  Weight            Team  \\\n",
       "0   1                 A Dijiang   M  24.0   180.0    80.0           China   \n",
       "1   2                  A Lamusi   M  23.0   170.0    60.0           China   \n",
       "2   3       Gunnar Nielsen Aaby   M  24.0     NaN     NaN         Denmark   \n",
       "3   4      Edgar Lindenau Aabye   M  34.0     NaN     NaN  Denmark/Sweden   \n",
       "4   5  Christine Jacoba Aaftink   F  21.0   185.0    82.0     Netherlands   \n",
       "\n",
       "   NOC        Games  Year  Season       City          Sport  \\\n",
       "0  CHN  1992 Summer  1992  Summer  Barcelona     Basketball   \n",
       "1  CHN  2012 Summer  2012  Summer     London           Judo   \n",
       "2  DEN  1920 Summer  1920  Summer  Antwerpen       Football   \n",
       "3  DEN  1900 Summer  1900  Summer      Paris     Tug-Of-War   \n",
       "4  NED  1988 Winter  1988  Winter    Calgary  Speed Skating   \n",
       "\n",
       "                              Event Medal  \n",
       "0       Basketball Men's Basketball   NaN  \n",
       "1      Judo Men's Extra-Lightweight   NaN  \n",
       "2           Football Men's Football   NaN  \n",
       "3       Tug-Of-War Men's Tug-Of-War  Gold  \n",
       "4  Speed Skating Women's 500 metres   NaN  "
      ]
     },
     "execution_count": 40,
     "metadata": {},
     "output_type": "execute_result"
    }
   ],
   "source": [
    "# The path to our CSV file\n",
    "file = \"Resources/original_olympic_data.csv\"\n",
    "\n",
    "# Read our data into pandas\n",
    "df = pd.read_csv(file)\n",
    "df.head()"
   ]
  },
  {
   "cell_type": "code",
   "execution_count": 41,
   "metadata": {},
   "outputs": [
    {
     "data": {
      "text/plain": [
       "Index(['ID', 'Name', 'Sex', 'Age', 'Height', 'Weight', 'Team', 'NOC', 'Games',\n",
       "       'Year', 'Season', 'City', 'Sport', 'Event', 'Medal'],\n",
       "      dtype='object')"
      ]
     },
     "execution_count": 41,
     "metadata": {},
     "output_type": "execute_result"
    }
   ],
   "source": [
    "df.columns"
   ]
  },
  {
   "cell_type": "code",
   "execution_count": 58,
   "metadata": {},
   "outputs": [
    {
     "data": {
      "text/plain": [
       "Name    33808\n",
       "Sex     33808\n",
       "Age     33525\n",
       "Team    33808\n",
       "NOC     33808\n",
       "dtype: int64"
      ]
     },
     "execution_count": 58,
     "metadata": {},
     "output_type": "execute_result"
    }
   ],
   "source": [
    "##With this dataset you can see that there have only been 33,808 women who have participated in the Olympic Games\n",
    "\n",
    "#Selecting the columns\n",
    "starter_olympics_df = df.loc[:, ['Name', 'Sex', 'Age', 'Team', 'NOC',\n",
    "                                'Year', 'Sport', 'Event', 'Medal', \"ID\"]]\n",
    "starter_olympics_df.head()\n",
    "\n",
    "#Select only USA participants\n",
    "usa_filter_f = starter_olympics_df[(starter_olympics_df[\"Sex\"] == \"F\")]\n",
    "usa_filter_f.head()\n",
    "\n",
    "#drop duplicates based off of the name\n",
    "usa_clean = usa_filter_f.drop_duplicates(subset=['Name']).count()\n",
    "usa_clean.head()\n",
    "\n",
    "#Checking for any Nan values on columns to be used\n",
    "#usa_clean['NOC'].isnull().values.any()"
   ]
  },
  {
   "cell_type": "code",
   "execution_count": 59,
   "metadata": {},
   "outputs": [
    {
     "data": {
      "text/plain": [
       "Name    100979\n",
       "Sex     100979\n",
       "Age      94941\n",
       "Team    100979\n",
       "NOC     100979\n",
       "dtype: int64"
      ]
     },
     "execution_count": 59,
     "metadata": {},
     "output_type": "execute_result"
    }
   ],
   "source": [
    "\n",
    "#Selecting the columns\n",
    "starter_olympics_df = df.loc[:, ['Name', 'Sex', 'Age', 'Team', 'NOC',\n",
    "                                'Year', 'Sport', 'Event', 'Medal']]\n",
    "starter_olympics_df.head()\n",
    "\n",
    "#Select only USA participants\n",
    "usa_filter = starter_olympics_df[(starter_olympics_df[\"Sex\"] == \"M\")]\n",
    "usa_filter.head()\n",
    "\n",
    "#drop duplicates based off of the name\n",
    "usa_clean = usa_filter.drop_duplicates(subset=['Name']).count()\n",
    "usa_clean.head()\n",
    "\n",
    "#Checking for any Nan values on columns to be used\n",
    "#usa_clean['NOC'].isnull().values.any()"
   ]
  },
  {
   "cell_type": "code",
   "execution_count": 91,
   "metadata": {
    "scrolled": true
   },
   "outputs": [
    {
     "data": {
      "text/html": [
       "<div>\n",
       "<style scoped>\n",
       "    .dataframe tbody tr th:only-of-type {\n",
       "        vertical-align: middle;\n",
       "    }\n",
       "\n",
       "    .dataframe tbody tr th {\n",
       "        vertical-align: top;\n",
       "    }\n",
       "\n",
       "    .dataframe thead th {\n",
       "        text-align: right;\n",
       "    }\n",
       "</style>\n",
       "<table border=\"1\" class=\"dataframe\">\n",
       "  <thead>\n",
       "    <tr style=\"text-align: right;\">\n",
       "      <th></th>\n",
       "      <th>Sex</th>\n",
       "      <th>Age</th>\n",
       "      <th>Sport</th>\n",
       "      <th>Year</th>\n",
       "      <th>Name</th>\n",
       "    </tr>\n",
       "  </thead>\n",
       "  <tbody>\n",
       "    <tr>\n",
       "      <th>4</th>\n",
       "      <td>F</td>\n",
       "      <td>21.0</td>\n",
       "      <td>Speed Skating</td>\n",
       "      <td>1988</td>\n",
       "      <td>Christine Jacoba Aaftink</td>\n",
       "    </tr>\n",
       "    <tr>\n",
       "      <th>6</th>\n",
       "      <td>F</td>\n",
       "      <td>25.0</td>\n",
       "      <td>Speed Skating</td>\n",
       "      <td>1992</td>\n",
       "      <td>Christine Jacoba Aaftink</td>\n",
       "    </tr>\n",
       "    <tr>\n",
       "      <th>8</th>\n",
       "      <td>F</td>\n",
       "      <td>27.0</td>\n",
       "      <td>Speed Skating</td>\n",
       "      <td>1994</td>\n",
       "      <td>Christine Jacoba Aaftink</td>\n",
       "    </tr>\n",
       "    <tr>\n",
       "      <th>26</th>\n",
       "      <td>F</td>\n",
       "      <td>18.0</td>\n",
       "      <td>Athletics</td>\n",
       "      <td>1932</td>\n",
       "      <td>Cornelia \"Cor\" Aalten (-Strannood)</td>\n",
       "    </tr>\n",
       "    <tr>\n",
       "      <th>32</th>\n",
       "      <td>F</td>\n",
       "      <td>30.0</td>\n",
       "      <td>Sailing</td>\n",
       "      <td>1996</td>\n",
       "      <td>Minna Maarit Aalto</td>\n",
       "    </tr>\n",
       "    <tr>\n",
       "      <th>...</th>\n",
       "      <td>...</td>\n",
       "      <td>...</td>\n",
       "      <td>...</td>\n",
       "      <td>...</td>\n",
       "      <td>...</td>\n",
       "    </tr>\n",
       "    <tr>\n",
       "      <th>271080</th>\n",
       "      <td>F</td>\n",
       "      <td>33.0</td>\n",
       "      <td>Athletics</td>\n",
       "      <td>1964</td>\n",
       "      <td>Galina Ivanovna Zybina (-Fyodorova)</td>\n",
       "    </tr>\n",
       "    <tr>\n",
       "      <th>271099</th>\n",
       "      <td>F</td>\n",
       "      <td>36.0</td>\n",
       "      <td>Wrestling</td>\n",
       "      <td>2004</td>\n",
       "      <td>Stavroula Zygouri</td>\n",
       "    </tr>\n",
       "    <tr>\n",
       "      <th>271102</th>\n",
       "      <td>F</td>\n",
       "      <td>19.0</td>\n",
       "      <td>Athletics</td>\n",
       "      <td>2000</td>\n",
       "      <td>Olesya Nikolayevna Zykina</td>\n",
       "    </tr>\n",
       "    <tr>\n",
       "      <th>271103</th>\n",
       "      <td>F</td>\n",
       "      <td>23.0</td>\n",
       "      <td>Athletics</td>\n",
       "      <td>2004</td>\n",
       "      <td>Olesya Nikolayevna Zykina</td>\n",
       "    </tr>\n",
       "    <tr>\n",
       "      <th>271110</th>\n",
       "      <td>F</td>\n",
       "      <td>33.0</td>\n",
       "      <td>Basketball</td>\n",
       "      <td>2016</td>\n",
       "      <td>Olga Igorevna Zyuzkova</td>\n",
       "    </tr>\n",
       "  </tbody>\n",
       "</table>\n",
       "<p>48860 rows × 5 columns</p>\n",
       "</div>"
      ],
      "text/plain": [
       "       Sex   Age          Sport  Year                                 Name\n",
       "4        F  21.0  Speed Skating  1988             Christine Jacoba Aaftink\n",
       "6        F  25.0  Speed Skating  1992             Christine Jacoba Aaftink\n",
       "8        F  27.0  Speed Skating  1994             Christine Jacoba Aaftink\n",
       "26       F  18.0      Athletics  1932   Cornelia \"Cor\" Aalten (-Strannood)\n",
       "32       F  30.0        Sailing  1996                   Minna Maarit Aalto\n",
       "...     ..   ...            ...   ...                                  ...\n",
       "271080   F  33.0      Athletics  1964  Galina Ivanovna Zybina (-Fyodorova)\n",
       "271099   F  36.0      Wrestling  2004                    Stavroula Zygouri\n",
       "271102   F  19.0      Athletics  2000            Olesya Nikolayevna Zykina\n",
       "271103   F  23.0      Athletics  2004            Olesya Nikolayevna Zykina\n",
       "271110   F  33.0     Basketball  2016               Olga Igorevna Zyuzkova\n",
       "\n",
       "[48860 rows x 5 columns]"
      ]
     },
     "execution_count": 91,
     "metadata": {},
     "output_type": "execute_result"
    }
   ],
   "source": [
    "player_data = usa_filter_f[[\"Sex\", \"Age\", \"Sport\", \"Year\", \"Name\"]]\n",
    "player_data= player_data.drop_duplicates()\n",
    "player_data"
   ]
  },
  {
   "cell_type": "code",
   "execution_count": 102,
   "metadata": {},
   "outputs": [
    {
     "data": {
      "text/plain": [
       "<pandas.core.groupby.generic.DataFrameGroupBy object at 0x000001A30DD9AD30>"
      ]
     },
     "execution_count": 102,
     "metadata": {},
     "output_type": "execute_result"
    }
   ],
   "source": [
    "#Set theme\n",
    "plt.style.use('seaborn')\n",
    "\n",
    "#Select specific sports to look at trend\n",
    "selected_sports = player_data.loc[(player_data['Sport'] == 'Athletics') |\n",
    "                                  (player_data['Sport'] == 'Gymnastics') |\n",
    "                                  (player_data['Sport'] == 'Swimming'), :]\n",
    "sports = selected_sports.groupby(['Sport'])\n",
    "sports['Name'].value_counts\n",
    "sports\n",
    "\n",
    "                              "
   ]
  },
  {
   "cell_type": "code",
   "execution_count": null,
   "metadata": {},
   "outputs": [],
   "source": []
  },
  {
   "cell_type": "code",
   "execution_count": null,
   "metadata": {},
   "outputs": [],
   "source": []
  },
  {
   "cell_type": "code",
   "execution_count": null,
   "metadata": {},
   "outputs": [],
   "source": []
  },
  {
   "cell_type": "code",
   "execution_count": null,
   "metadata": {},
   "outputs": [],
   "source": []
  },
  {
   "cell_type": "code",
   "execution_count": null,
   "metadata": {},
   "outputs": [],
   "source": []
  },
  {
   "cell_type": "code",
   "execution_count": null,
   "metadata": {},
   "outputs": [],
   "source": []
  }
 ],
 "metadata": {
  "interpreter": {
   "hash": "1094b6c851ee2dfcde7800483b86af07dc336cbad65f7e6986e29e39f634f912"
  },
  "kernelspec": {
   "display_name": "Python 3",
   "language": "python",
   "name": "python3"
  },
  "language_info": {
   "codemirror_mode": {
    "name": "ipython",
    "version": 3
   },
   "file_extension": ".py",
   "mimetype": "text/x-python",
   "name": "python",
   "nbconvert_exporter": "python",
   "pygments_lexer": "ipython3",
   "version": "3.6.10"
  }
 },
 "nbformat": 4,
 "nbformat_minor": 2
}
